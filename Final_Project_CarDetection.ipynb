{
  "nbformat": 4,
  "nbformat_minor": 0,
  "metadata": {
    "colab": {
      "name": "Final-Project-CarDetection.ipynb",
      "provenance": [],
      "authorship_tag": "ABX9TyNN7HlfVxfiLhMVZfUeHs/6",
      "include_colab_link": true
    },
    "kernelspec": {
      "name": "python3",
      "display_name": "Python 3"
    },
    "language_info": {
      "name": "python"
    }
  },
  "cells": [
    {
      "cell_type": "markdown",
      "metadata": {
        "id": "view-in-github",
        "colab_type": "text"
      },
      "source": [
        "<a href=\"https://colab.research.google.com/github/ardilalukita14/PCVK-FinalProject-CarPark/blob/main/Final_Project_CarDetection.ipynb\" target=\"_parent\"><img src=\"https://colab.research.google.com/assets/colab-badge.svg\" alt=\"Open In Colab\"/></a>"
      ]
    },
    {
      "cell_type": "markdown",
      "source": [
        "# **PROJECT UAS - DETECTION OBJECT \"CAR\"**"
      ],
      "metadata": {
        "id": "V4TPv0Kjahex"
      }
    },
    {
      "cell_type": "markdown",
      "source": [
        "### **Tujuan Project :**\n",
        "- Mampu mengimplementasikan haar cascade sebagi metode yang akan \n",
        "  membantu mendeteksi keberadaan objek car dalam sebuah citra.\n",
        "- Mampu mengimplementasikan metode edge detection ke dalam dataset car park,\n",
        "  untuk membantu mengelompokkan objek-objek dalam citra sekaligus\n",
        "  menganalisa citra lebih lanjut.\n",
        "- Membandingkan hasil deteksi tepi dari ketiga metode edge detection yang ada (sobel, \n",
        "  laplacian, dan canny).\n",
        "- Mengetahui keakuratan haar cascade dalam mendeteksi objek sebuah citra.\n",
        "- Membuktikan bahwa keberadaan noise dalam sebuah citra akan mempengaruhi hasil analisa\n",
        "  metode edge detection.\n",
        "- Mengetahui keakuratan sobel, laplacian, dan canny dalam mendeteksi tepi citra."
      ],
      "metadata": {
        "id": "5nEEpoqoaoZA"
      }
    },
    {
      "cell_type": "markdown",
      "source": [
        "### **Anggota Kelompok** \n",
        "\n",
        "1. Ardila Lukita Sari\n",
        "2. Eksa Lailia M\n",
        "3. Fathin Naufaliya"
      ],
      "metadata": {
        "id": "lluWUyXha7gP"
      }
    },
    {
      "cell_type": "markdown",
      "source": [
        "Mengolah citra dengan menggunakan metode \"edge detection\". Adapun metode edge detection yang digunakan ialah \n",
        "\n",
        "- Sobel\n",
        "- Laplacian\n",
        "- Canny\n",
        "\n",
        "Dengan ketiga metode edge detection ini, kami ingin mengetahui seperti apa perbedaan hasil pengolahan citra dengan cara sobel, laplacian, dan canny. Selain itu, kami juga ingin mengetahui seberapa besar pengaruh noise terhadap hasil analisa dari 3 jenis metode edge detection dalam sebuah citra. "
      ],
      "metadata": {
        "id": "CgrvCipBbMm3"
      }
    },
    {
      "cell_type": "markdown",
      "source": [
        "## **Import Library**"
      ],
      "metadata": {
        "id": "ov10-WJhcrFv"
      }
    },
    {
      "cell_type": "code",
      "source": [
        "# import library yang akan dibutuhkan dalam praktikum\n",
        "\n",
        "import cv2 as cv\n",
        "from google.colab.patches import cv2_imshow\n",
        "import numpy as np\n",
        "from matplotlib import pyplot as plt\n",
        "import math"
      ],
      "metadata": {
        "id": "4tHVZulLcwoc"
      },
      "execution_count": 1,
      "outputs": []
    },
    {
      "cell_type": "markdown",
      "source": [
        "## **Sobel**"
      ],
      "metadata": {
        "id": "YlTEY4f5cN3R"
      }
    },
    {
      "cell_type": "code",
      "source": [
        ""
      ],
      "metadata": {
        "id": "BDDUAb-wan36"
      },
      "execution_count": null,
      "outputs": []
    },
    {
      "cell_type": "code",
      "execution_count": null,
      "metadata": {
        "id": "IQ_XSdmnafjI"
      },
      "outputs": [],
      "source": [
        ""
      ]
    }
  ]
}